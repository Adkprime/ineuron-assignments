{
 "cells": [
  {
   "cell_type": "markdown",
   "metadata": {},
   "source": [
    "# Problem 1 - Exception handling"
   ]
  },
  {
   "cell_type": "code",
   "execution_count": 6,
   "metadata": {},
   "outputs": [
    {
     "name": "stdout",
     "output_type": "stream",
     "text": [
      "Enter an Integer : 12\n",
      "Enter an Integer : 0\n",
      "division by zero \n",
      " Denominator cannot be 0 \n"
     ]
    }
   ],
   "source": [
    "#Taking inputs from the user\n",
    "while True:\n",
    "    try:\n",
    "        a = int(input(\"Enter an Integer : \"))\n",
    "        b= int(input(\"Enter an Integer : \"))\n",
    "    except Exception as e:\n",
    "        print (e,\"\\n Please enter only integer!\")\n",
    "        continue\n",
    "    else:\n",
    "        break\n",
    "def user_operation(a,b):\n",
    "    try:\n",
    "        c=a/b\n",
    "    except Exception as e:\n",
    "        print (e, \"\\n Denominator cannot be 0 \")   #for exception created while performing division\n",
    "    else:\n",
    "        print(\"Operation executed Successfully!\")\n",
    "        return c\n",
    "user_operation(a,b)"
   ]
  },
  {
   "cell_type": "markdown",
   "metadata": {},
   "source": [
    "# Problem 2 "
   ]
  },
  {
   "cell_type": "code",
   "execution_count": 20,
   "metadata": {},
   "outputs": [],
   "source": [
    "subject=['Americans','Indians']\n",
    "verbs=['play','watch']\n",
    "objects=['Baseball','Cricket']"
   ]
  },
  {
   "cell_type": "code",
   "execution_count": 30,
   "metadata": {},
   "outputs": [
    {
     "name": "stdout",
     "output_type": "stream",
     "text": [
      "Americans play Baseball .\n",
      "Americans play Cricket .\n",
      "Americans watch Baseball .\n",
      "Americans watch Cricket .\n",
      "Indians play Baseball .\n",
      "Indians play Cricket .\n",
      "Indians watch Baseball .\n",
      "Indians watch Cricket .\n"
     ]
    }
   ],
   "source": [
    "for i in subject:\n",
    "    for j in verbs:\n",
    "        for k in objects:\n",
    "            print(i,j,k,\".\")"
   ]
  }
 ],
 "metadata": {
  "kernelspec": {
   "display_name": "Python 3",
   "language": "python",
   "name": "python3"
  },
  "language_info": {
   "codemirror_mode": {
    "name": "ipython",
    "version": 3
   },
   "file_extension": ".py",
   "mimetype": "text/x-python",
   "name": "python",
   "nbconvert_exporter": "python",
   "pygments_lexer": "ipython3",
   "version": "3.8.3"
  }
 },
 "nbformat": 4,
 "nbformat_minor": 4
}
